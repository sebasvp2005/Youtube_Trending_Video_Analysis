{
 "cells": [
  {
   "cell_type": "code",
   "execution_count": 1,
   "metadata": {},
   "outputs": [
    {
     "name": "stderr",
     "output_type": "stream",
     "text": [
      "C:\\Users\\sebas\\AppData\\Local\\Temp\\ipykernel_8640\\3233448815.py:2: DeprecationWarning: \n",
      "Pyarrow will become a required dependency of pandas in the next major release of pandas (pandas 3.0),\n",
      "(to allow more performant data types, such as the Arrow string type, and better interoperability with other libraries)\n",
      "but was not found to be installed on your system.\n",
      "If this would cause problems for you,\n",
      "please provide us feedback at https://github.com/pandas-dev/pandas/issues/54466\n",
      "        \n",
      "  import pandas as pd                # Para análisis y manipulación de datos tabulares\n"
     ]
    }
   ],
   "source": [
    "import numpy as np                 # Para operaciones numéricas y manipulación de matrices\n",
    "import pandas as pd                # Para análisis y manipulación de datos tabulares\n",
    "import matplotlib.pyplot as plt \n",
    "   # Visualización de datos\n",
    "\n",
    "%matplotlib inline"
   ]
  },
  {
   "cell_type": "code",
   "execution_count": 2,
   "metadata": {},
   "outputs": [],
   "source": [
    "countries = {\n",
    "    \"India (IN)\": \"IN\",\n",
    "    \"Japón (JP)\": \"JP\",\n",
    "    \"Korea del Sur (KR)\": \"KR\",\n",
    "    \"Mexico (MX)\": \"MX\",\n",
    "    \"Rusia (RU)\": \"RU\"\n",
    "}\n",
    "\n",
    "data_path = \"./data/\" # Direccion donde se encuentran los datasets"
   ]
  },
  {
   "cell_type": "code",
   "execution_count": 3,
   "metadata": {},
   "outputs": [
    {
     "name": "stderr",
     "output_type": "stream",
     "text": [
      "C:\\Users\\sebas\\AppData\\Local\\Temp\\ipykernel_8640\\570607943.py:7: DtypeWarning: Columns (4,7) have mixed types. Specify dtype option on import or set low_memory=False.\n",
      "  cur_df = pd.read_csv(filepath)\n"
     ]
    }
   ],
   "source": [
    "\n",
    "df = pd.DataFrame()\n",
    "\n",
    "dataframes = {}\n",
    "for country, filename in countries.items():\n",
    "    filepath = data_path + filename + \"videos_cc50_202101.csv\"\n",
    "\n",
    "    cur_df = pd.read_csv(filepath)\n",
    "    cur_df['Country'] = filename\n",
    "    df = pd.concat([df, cur_df], ignore_index=True)\n",
    "\n",
    "    \n",
    "# Con el arreglo dataframes se puede acceder a su marcos de datos por nombre de país (por ejemplo, marcos de datos dataframes[\"India (IN)\"]"
   ]
  },
  {
   "cell_type": "code",
   "execution_count": 4,
   "metadata": {},
   "outputs": [],
   "source": [
    "df.to_csv('join.csv', index=False)"
   ]
  },
  {
   "cell_type": "code",
   "execution_count": 5,
   "metadata": {},
   "outputs": [
    {
     "name": "stderr",
     "output_type": "stream",
     "text": [
      "C:\\Users\\sebas\\AppData\\Local\\Temp\\ipykernel_8640\\3409014922.py:1: DtypeWarning: Columns (4,7) have mixed types. Specify dtype option on import or set low_memory=False.\n",
      "  df = pd.read_csv('join.csv')\n"
     ]
    }
   ],
   "source": [
    "df = pd.read_csv('join.csv')"
   ]
  },
  {
   "cell_type": "code",
   "execution_count": 6,
   "metadata": {},
   "outputs": [
    {
     "data": {
      "text/plain": [
       "3820530"
      ]
     },
     "execution_count": 6,
     "metadata": {},
     "output_type": "execute_result"
    }
   ],
   "source": [
    "df.size"
   ]
  },
  {
   "cell_type": "code",
   "execution_count": 7,
   "metadata": {},
   "outputs": [
    {
     "data": {
      "text/plain": [
       "148612"
      ]
     },
     "execution_count": 7,
     "metadata": {},
     "output_type": "execute_result"
    }
   ],
   "source": [
    "df.isna().sum().sum() "
   ]
  },
  {
   "cell_type": "code",
   "execution_count": 8,
   "metadata": {},
   "outputs": [
    {
     "name": "stdout",
     "output_type": "stream",
     "text": [
      "3.889826804134505\n"
     ]
    }
   ],
   "source": [
    "print(148612 * 100 / 3820530)"
   ]
  },
  {
   "cell_type": "code",
   "execution_count": 9,
   "metadata": {},
   "outputs": [],
   "source": [
    "df.drop(columns=[ 'title', 'thumbnail_link', 'description', 'tags'], inplace=True)"
   ]
  },
  {
   "cell_type": "code",
   "execution_count": 10,
   "metadata": {},
   "outputs": [],
   "source": [
    "df['views'] = pd.to_numeric(df['views'], errors='coerce').astype('Int64')\n",
    "df['likes'] = pd.to_numeric(df['likes'], errors='coerce').astype('Int64')\n",
    "df['dislikes'] = pd.to_numeric(df['dislikes'], errors='coerce').astype('Int64')\n",
    "df['comment_count'] = pd.to_numeric(df['comment_count'], errors='coerce').astype('Int64')\n",
    "df['video_id'] = df['video_id'].astype('str')\n",
    "df['category_id'] = pd.to_numeric(df['category_id'], errors='coerce').astype('Int64')\n",
    "df['category_id'] =df['category_id'].astype('str')\n"
   ]
  },
  {
   "cell_type": "code",
   "execution_count": 11,
   "metadata": {},
   "outputs": [
    {
     "name": "stdout",
     "output_type": "stream",
     "text": [
      "<class 'pandas.core.frame.DataFrame'>\n",
      "RangeIndex: 181930 entries, 0 to 181929\n",
      "Data columns (total 17 columns):\n",
      " #   Column                  Non-Null Count   Dtype  \n",
      "---  ------                  --------------   -----  \n",
      " 0   video_id                181930 non-null  object \n",
      " 1   trending_date           161997 non-null  object \n",
      " 2   channel_title           173765 non-null  object \n",
      " 3   category_id             181930 non-null  object \n",
      " 4   publish_time            173656 non-null  object \n",
      " 5   views                   173631 non-null  Int64  \n",
      " 6   likes                   173631 non-null  Int64  \n",
      " 7   dislikes                173631 non-null  Int64  \n",
      " 8   comment_count           173631 non-null  Int64  \n",
      " 9   comments_disabled       173631 non-null  object \n",
      " 10  ratings_disabled        173631 non-null  object \n",
      " 11  video_error_or_removed  173631 non-null  object \n",
      " 12  state                   181930 non-null  object \n",
      " 13  lat                     181930 non-null  float64\n",
      " 14  lon                     181930 non-null  float64\n",
      " 15  geometry                181930 non-null  object \n",
      " 16  Country                 181930 non-null  object \n",
      "dtypes: Int64(4), float64(2), object(11)\n",
      "memory usage: 24.3+ MB\n"
     ]
    }
   ],
   "source": [
    "df.info()"
   ]
  },
  {
   "cell_type": "code",
   "execution_count": 12,
   "metadata": {},
   "outputs": [
    {
     "data": {
      "text/plain": [
       "video_id                      0\n",
       "trending_date             19933\n",
       "channel_title              8165\n",
       "category_id                   0\n",
       "publish_time               8274\n",
       "views                      8299\n",
       "likes                      8299\n",
       "dislikes                   8299\n",
       "comment_count              8299\n",
       "comments_disabled          8299\n",
       "ratings_disabled           8299\n",
       "video_error_or_removed     8299\n",
       "state                         0\n",
       "lat                           0\n",
       "lon                           0\n",
       "geometry                      0\n",
       "Country                       0\n",
       "dtype: int64"
      ]
     },
     "execution_count": 12,
     "metadata": {},
     "output_type": "execute_result"
    }
   ],
   "source": [
    "df.isna().sum()"
   ]
  },
  {
   "cell_type": "code",
   "execution_count": 13,
   "metadata": {},
   "outputs": [],
   "source": [
    "def invalidId(row):\n",
    "    if (row['video_id'].__len__() != 11 and row['video_id']!='#NAME?') or row['video_id'].count(' ') != 0 or row['video_id'].count('\\\\n') != 0 or row['video_id'].startswith('＠'):\n",
    "        return True\n",
    "    return False"
   ]
  },
  {
   "cell_type": "code",
   "execution_count": 14,
   "metadata": {},
   "outputs": [
    {
     "data": {
      "text/plain": [
       "8305"
      ]
     },
     "execution_count": 14,
     "metadata": {},
     "output_type": "execute_result"
    }
   ],
   "source": [
    "df.loc[df.apply(invalidId, axis=1)].__len__()"
   ]
  },
  {
   "cell_type": "code",
   "execution_count": 15,
   "metadata": {},
   "outputs": [],
   "source": [
    "df.drop(df.loc[df.apply(invalidId, axis=1)].index, inplace=True)"
   ]
  },
  {
   "cell_type": "code",
   "execution_count": 16,
   "metadata": {},
   "outputs": [
    {
     "data": {
      "text/plain": [
       "435"
      ]
     },
     "execution_count": 16,
     "metadata": {},
     "output_type": "execute_result"
    }
   ],
   "source": [
    "df.duplicated().sum()"
   ]
  },
  {
   "cell_type": "code",
   "execution_count": 17,
   "metadata": {},
   "outputs": [],
   "source": [
    "df = df.drop_duplicates()"
   ]
  },
  {
   "cell_type": "code",
   "execution_count": 18,
   "metadata": {},
   "outputs": [
    {
     "data": {
      "text/plain": [
       "434"
      ]
     },
     "execution_count": 18,
     "metadata": {},
     "output_type": "execute_result"
    }
   ],
   "source": [
    "df.duplicated(subset=['video_id' , 'Country', 'trending_date', 'state'], keep=False).sum()"
   ]
  },
  {
   "cell_type": "code",
   "execution_count": 19,
   "metadata": {},
   "outputs": [],
   "source": [
    "df.drop_duplicates(subset=['video_id' , 'Country', 'trending_date', 'state'],keep='last', inplace=True)"
   ]
  },
  {
   "cell_type": "code",
   "execution_count": 20,
   "metadata": {},
   "outputs": [],
   "source": [
    "df.drop(df[df['video_error_or_removed']=='VERDADERO'].index, inplace=True)"
   ]
  },
  {
   "cell_type": "code",
   "execution_count": 21,
   "metadata": {},
   "outputs": [],
   "source": [
    "df.drop(columns=['video_error_or_removed'], inplace=True)"
   ]
  },
  {
   "cell_type": "code",
   "execution_count": 22,
   "metadata": {},
   "outputs": [],
   "source": [
    "def convert_date(row):\n",
    "    try:\n",
    "        date_str = row['publish_time']\n",
    "        \n",
    "        if ('T' in date_str and 'Z' in date_str) or( '+' in date_str):\n",
    "            utc_date = pd.to_datetime(date_str, utc=True)\n",
    "        else:\n",
    "\n",
    "            local_date = pd.to_datetime(date_str, format='%d/%m/%Y %H:%M')\n",
    "            \n",
    "            if row['Country'] == 'MX':\n",
    "                local_date = local_date.tz_localize('America/Mexico_City')\n",
    "            elif row['Country'] == 'IN':\n",
    "                local_date = local_date.tz_localize('Asia/Kolkata')\n",
    "            elif row['Country'] == 'JP':\n",
    "                local_date = local_date.tz_localize('Asia/Tokyo')\n",
    "            elif row['Country'] == 'KR':\n",
    "                local_date = local_date.tz_localize('Asia/Seoul')\n",
    "            elif row['Country'] == 'RU':\n",
    "                local_date = local_date.tz_localize('Europe/Moscow')\n",
    "\n",
    "\n",
    "            utc_date = local_date.tz_convert('UTC')\n",
    "        \n",
    "        return utc_date\n",
    "    except Exception as e:\n",
    "        print(f\"Error converting date: {row['publish_time']} for country: {row['Country']}\")\n",
    "        print(f\"Exception: {e}\")\n",
    "        return pd.NaT\n",
    "        #print(row['publish_time'])"
   ]
  },
  {
   "cell_type": "code",
   "execution_count": 23,
   "metadata": {},
   "outputs": [
    {
     "name": "stdout",
     "output_type": "stream",
     "text": [
      "Error converting date: 01/04/2018 2:02 for country: MX\n",
      "Exception: 2018-04-01 02:02:00\n",
      "Error converting date: 01/04/2018 2:47 for country: MX\n",
      "Exception: 2018-04-01 02:47:00\n"
     ]
    }
   ],
   "source": [
    "df['publish_time'] =  df.apply(convert_date, axis=1)"
   ]
  },
  {
   "cell_type": "code",
   "execution_count": 24,
   "metadata": {},
   "outputs": [],
   "source": [
    "def parseToUTC(row):\n",
    "    try:\n",
    "        date_str = row['trending_date']\n",
    "        if row['Country'] == 'JP':\n",
    "            date_str = pd.to_datetime(date_str, format='%d/%m/%Y')\n",
    "        else: \n",
    "            date_str = pd.to_datetime(date_str, format='%y.%d.%m')\n",
    "        \n",
    "        if row['Country'] == 'MX':\n",
    "            local_date = date_str.tz_localize('America/Mexico_City')\n",
    "        elif row['Country'] == 'IN':\n",
    "            local_date = date_str.tz_localize('Asia/Kolkata')\n",
    "        elif row['Country'] == 'JP':\n",
    "            local_date = date_str.tz_localize('Asia/Tokyo')\n",
    "        elif row['Country'] == 'KR':\n",
    "            local_date = date_str.tz_localize('Asia/Seoul')\n",
    "        elif row['Country'] == 'RU':\n",
    "            local_date = date_str.tz_localize('Europe/Moscow')\n",
    "        else:\n",
    "            return pd.NaT\n",
    "        \n",
    "        utc_date = local_date.tz_convert('UTC')\n",
    "        \n",
    "        return utc_date\n",
    "    except ValueError as e:\n",
    "        return pd.NaT"
   ]
  },
  {
   "cell_type": "code",
   "execution_count": 25,
   "metadata": {},
   "outputs": [],
   "source": [
    "df['trending_date'] = df.apply(parseToUTC, axis=1)"
   ]
  },
  {
   "cell_type": "code",
   "execution_count": 26,
   "metadata": {},
   "outputs": [],
   "source": [
    "df.drop( df[df['trending_date'].isna() | df['publish_time'].isna()].index , inplace=True)"
   ]
  },
  {
   "cell_type": "code",
   "execution_count": 27,
   "metadata": {},
   "outputs": [
    {
     "data": {
      "text/html": [
       "<div>\n",
       "<style scoped>\n",
       "    .dataframe tbody tr th:only-of-type {\n",
       "        vertical-align: middle;\n",
       "    }\n",
       "\n",
       "    .dataframe tbody tr th {\n",
       "        vertical-align: top;\n",
       "    }\n",
       "\n",
       "    .dataframe thead th {\n",
       "        text-align: right;\n",
       "    }\n",
       "</style>\n",
       "<table border=\"1\" class=\"dataframe\">\n",
       "  <thead>\n",
       "    <tr style=\"text-align: right;\">\n",
       "      <th></th>\n",
       "      <th>video_id</th>\n",
       "      <th>trending_date</th>\n",
       "      <th>channel_title</th>\n",
       "      <th>category_id</th>\n",
       "      <th>publish_time</th>\n",
       "      <th>views</th>\n",
       "      <th>likes</th>\n",
       "      <th>dislikes</th>\n",
       "      <th>comment_count</th>\n",
       "      <th>comments_disabled</th>\n",
       "      <th>ratings_disabled</th>\n",
       "      <th>state</th>\n",
       "      <th>lat</th>\n",
       "      <th>lon</th>\n",
       "      <th>geometry</th>\n",
       "      <th>Country</th>\n",
       "    </tr>\n",
       "  </thead>\n",
       "  <tbody>\n",
       "    <tr>\n",
       "      <th>38533</th>\n",
       "      <td>5ugKfHgsmYw</td>\n",
       "      <td>2002-07-17 15:00:00+00:00</td>\n",
       "      <td>時事通信映像センター</td>\n",
       "      <td>25</td>\n",
       "      <td>2018-02-05 13:04:00+00:00</td>\n",
       "      <td>188085</td>\n",
       "      <td>591</td>\n",
       "      <td>189</td>\n",
       "      <td>0</td>\n",
       "      <td>VERDADERO</td>\n",
       "      <td>FALSO</td>\n",
       "      <td>Kyoto</td>\n",
       "      <td>35.450406</td>\n",
       "      <td>135.333331</td>\n",
       "      <td>POINT (135.3333309 35.4504059)</td>\n",
       "      <td>JP</td>\n",
       "    </tr>\n",
       "    <tr>\n",
       "      <th>38534</th>\n",
       "      <td>ohObafdd34Y</td>\n",
       "      <td>2002-07-17 15:00:00+00:00</td>\n",
       "      <td>神谷えりな Kamiya Erina 2</td>\n",
       "      <td>1</td>\n",
       "      <td>2018-02-05 14:01:00+00:00</td>\n",
       "      <td>90929</td>\n",
       "      <td>442</td>\n",
       "      <td>88</td>\n",
       "      <td>174</td>\n",
       "      <td>FALSO</td>\n",
       "      <td>FALSO</td>\n",
       "      <td>Ishikawa</td>\n",
       "      <td>36.560002</td>\n",
       "      <td>136.640021</td>\n",
       "      <td>POINT (136.6400211 36.56000226)</td>\n",
       "      <td>JP</td>\n",
       "    </tr>\n",
       "    <tr>\n",
       "      <th>38535</th>\n",
       "      <td>aBr2kKAHN6M</td>\n",
       "      <td>2002-07-17 15:00:00+00:00</td>\n",
       "      <td>SpaceX</td>\n",
       "      <td>28</td>\n",
       "      <td>2018-02-06 07:38:00+00:00</td>\n",
       "      <td>6408303</td>\n",
       "      <td>165892</td>\n",
       "      <td>2331</td>\n",
       "      <td>3006</td>\n",
       "      <td>FALSO</td>\n",
       "      <td>FALSO</td>\n",
       "      <td>Akita</td>\n",
       "      <td>39.709991</td>\n",
       "      <td>140.089991</td>\n",
       "      <td>POINT (140.0899914 39.70999086)</td>\n",
       "      <td>JP</td>\n",
       "    </tr>\n",
       "    <tr>\n",
       "      <th>38536</th>\n",
       "      <td>5wNnwChvmsQ</td>\n",
       "      <td>2002-07-17 15:00:00+00:00</td>\n",
       "      <td>アシタノワダイ</td>\n",
       "      <td>25</td>\n",
       "      <td>2018-02-05 16:08:00+00:00</td>\n",
       "      <td>96255</td>\n",
       "      <td>1165</td>\n",
       "      <td>277</td>\n",
       "      <td>545</td>\n",
       "      <td>FALSO</td>\n",
       "      <td>FALSO</td>\n",
       "      <td>Kochi</td>\n",
       "      <td>33.562433</td>\n",
       "      <td>133.537523</td>\n",
       "      <td>POINT (133.5375232 33.56243329)</td>\n",
       "      <td>JP</td>\n",
       "    </tr>\n",
       "    <tr>\n",
       "      <th>38537</th>\n",
       "      <td>B7J47qFvdsk</td>\n",
       "      <td>2002-07-17 15:00:00+00:00</td>\n",
       "      <td>シネマトゥデイ</td>\n",
       "      <td>1</td>\n",
       "      <td>2018-02-05 12:30:00+00:00</td>\n",
       "      <td>108408</td>\n",
       "      <td>1336</td>\n",
       "      <td>74</td>\n",
       "      <td>201</td>\n",
       "      <td>FALSO</td>\n",
       "      <td>FALSO</td>\n",
       "      <td>Mie</td>\n",
       "      <td>34.717066</td>\n",
       "      <td>136.516670</td>\n",
       "      <td>POINT (136.5166695 34.71706565)</td>\n",
       "      <td>JP</td>\n",
       "    </tr>\n",
       "    <tr>\n",
       "      <th>...</th>\n",
       "      <td>...</td>\n",
       "      <td>...</td>\n",
       "      <td>...</td>\n",
       "      <td>...</td>\n",
       "      <td>...</td>\n",
       "      <td>...</td>\n",
       "      <td>...</td>\n",
       "      <td>...</td>\n",
       "      <td>...</td>\n",
       "      <td>...</td>\n",
       "      <td>...</td>\n",
       "      <td>...</td>\n",
       "      <td>...</td>\n",
       "      <td>...</td>\n",
       "      <td>...</td>\n",
       "      <td>...</td>\n",
       "    </tr>\n",
       "    <tr>\n",
       "      <th>59855</th>\n",
       "      <td>Ze2cFztLzCA</td>\n",
       "      <td>2006-12-17 15:00:00+00:00</td>\n",
       "      <td>ハイサイ探偵団</td>\n",
       "      <td>17</td>\n",
       "      <td>2018-06-10 20:00:00+00:00</td>\n",
       "      <td>72746</td>\n",
       "      <td>1069</td>\n",
       "      <td>94</td>\n",
       "      <td>158</td>\n",
       "      <td>FALSO</td>\n",
       "      <td>FALSO</td>\n",
       "      <td>Ishikawa</td>\n",
       "      <td>36.560002</td>\n",
       "      <td>136.640021</td>\n",
       "      <td>POINT (136.6400211 36.56000226)</td>\n",
       "      <td>JP</td>\n",
       "    </tr>\n",
       "    <tr>\n",
       "      <th>59856</th>\n",
       "      <td>UFGJVHWAJaw</td>\n",
       "      <td>2006-12-17 15:00:00+00:00</td>\n",
       "      <td>ARROWS-SCREEN</td>\n",
       "      <td>24</td>\n",
       "      <td>2018-06-10 19:00:00+00:00</td>\n",
       "      <td>58863</td>\n",
       "      <td>287</td>\n",
       "      <td>325</td>\n",
       "      <td>67</td>\n",
       "      <td>FALSO</td>\n",
       "      <td>FALSO</td>\n",
       "      <td>Gifu</td>\n",
       "      <td>35.423095</td>\n",
       "      <td>136.762753</td>\n",
       "      <td>POINT (136.7627526 35.42309491)</td>\n",
       "      <td>JP</td>\n",
       "    </tr>\n",
       "    <tr>\n",
       "      <th>59857</th>\n",
       "      <td>KWnloM9c2Hk</td>\n",
       "      <td>2006-12-17 15:00:00+00:00</td>\n",
       "      <td>釣りいろは</td>\n",
       "      <td>17</td>\n",
       "      <td>2018-06-10 20:56:00+00:00</td>\n",
       "      <td>83861</td>\n",
       "      <td>1655</td>\n",
       "      <td>48</td>\n",
       "      <td>165</td>\n",
       "      <td>FALSO</td>\n",
       "      <td>FALSO</td>\n",
       "      <td>Fukui</td>\n",
       "      <td>36.070420</td>\n",
       "      <td>136.220047</td>\n",
       "      <td>POINT (136.2200468 36.07041974)</td>\n",
       "      <td>JP</td>\n",
       "    </tr>\n",
       "    <tr>\n",
       "      <th>59858</th>\n",
       "      <td>2SzWJ0VmsbQ</td>\n",
       "      <td>2006-12-17 15:00:00+00:00</td>\n",
       "      <td>Y's Kitchen</td>\n",
       "      <td>26</td>\n",
       "      <td>2018-06-10 21:00:00+00:00</td>\n",
       "      <td>18326</td>\n",
       "      <td>530</td>\n",
       "      <td>265</td>\n",
       "      <td>80</td>\n",
       "      <td>FALSO</td>\n",
       "      <td>FALSO</td>\n",
       "      <td>Tottori</td>\n",
       "      <td>35.500377</td>\n",
       "      <td>134.233295</td>\n",
       "      <td>POINT (134.2332946 35.50037701)</td>\n",
       "      <td>JP</td>\n",
       "    </tr>\n",
       "    <tr>\n",
       "      <th>59859</th>\n",
       "      <td>dYeTlncY1WY</td>\n",
       "      <td>2006-12-17 15:00:00+00:00</td>\n",
       "      <td>猫のきんた。cat kinta</td>\n",
       "      <td>15</td>\n",
       "      <td>2018-06-10 18:00:00+00:00</td>\n",
       "      <td>45798</td>\n",
       "      <td>1594</td>\n",
       "      <td>13</td>\n",
       "      <td>293</td>\n",
       "      <td>FALSO</td>\n",
       "      <td>FALSO</td>\n",
       "      <td>Tokushima</td>\n",
       "      <td>34.067390</td>\n",
       "      <td>134.552500</td>\n",
       "      <td>POINT (134.5525 34.06738955)</td>\n",
       "      <td>JP</td>\n",
       "    </tr>\n",
       "  </tbody>\n",
       "</table>\n",
       "<p>8258 rows × 16 columns</p>\n",
       "</div>"
      ],
      "text/plain": [
       "          video_id             trending_date         channel_title  \\\n",
       "38533  5ugKfHgsmYw 2002-07-17 15:00:00+00:00            時事通信映像センター   \n",
       "38534  ohObafdd34Y 2002-07-17 15:00:00+00:00  神谷えりな Kamiya Erina 2   \n",
       "38535  aBr2kKAHN6M 2002-07-17 15:00:00+00:00                SpaceX   \n",
       "38536  5wNnwChvmsQ 2002-07-17 15:00:00+00:00               アシタノワダイ   \n",
       "38537  B7J47qFvdsk 2002-07-17 15:00:00+00:00               シネマトゥデイ   \n",
       "...            ...                       ...                   ...   \n",
       "59855  Ze2cFztLzCA 2006-12-17 15:00:00+00:00               ハイサイ探偵団   \n",
       "59856  UFGJVHWAJaw 2006-12-17 15:00:00+00:00         ARROWS-SCREEN   \n",
       "59857  KWnloM9c2Hk 2006-12-17 15:00:00+00:00                 釣りいろは   \n",
       "59858  2SzWJ0VmsbQ 2006-12-17 15:00:00+00:00           Y's Kitchen   \n",
       "59859  dYeTlncY1WY 2006-12-17 15:00:00+00:00       猫のきんた。cat kinta   \n",
       "\n",
       "      category_id              publish_time    views   likes  dislikes  \\\n",
       "38533          25 2018-02-05 13:04:00+00:00   188085     591       189   \n",
       "38534           1 2018-02-05 14:01:00+00:00    90929     442        88   \n",
       "38535          28 2018-02-06 07:38:00+00:00  6408303  165892      2331   \n",
       "38536          25 2018-02-05 16:08:00+00:00    96255    1165       277   \n",
       "38537           1 2018-02-05 12:30:00+00:00   108408    1336        74   \n",
       "...           ...                       ...      ...     ...       ...   \n",
       "59855          17 2018-06-10 20:00:00+00:00    72746    1069        94   \n",
       "59856          24 2018-06-10 19:00:00+00:00    58863     287       325   \n",
       "59857          17 2018-06-10 20:56:00+00:00    83861    1655        48   \n",
       "59858          26 2018-06-10 21:00:00+00:00    18326     530       265   \n",
       "59859          15 2018-06-10 18:00:00+00:00    45798    1594        13   \n",
       "\n",
       "       comment_count comments_disabled ratings_disabled      state        lat  \\\n",
       "38533              0         VERDADERO            FALSO      Kyoto  35.450406   \n",
       "38534            174             FALSO            FALSO   Ishikawa  36.560002   \n",
       "38535           3006             FALSO            FALSO      Akita  39.709991   \n",
       "38536            545             FALSO            FALSO      Kochi  33.562433   \n",
       "38537            201             FALSO            FALSO        Mie  34.717066   \n",
       "...              ...               ...              ...        ...        ...   \n",
       "59855            158             FALSO            FALSO   Ishikawa  36.560002   \n",
       "59856             67             FALSO            FALSO       Gifu  35.423095   \n",
       "59857            165             FALSO            FALSO      Fukui  36.070420   \n",
       "59858             80             FALSO            FALSO    Tottori  35.500377   \n",
       "59859            293             FALSO            FALSO  Tokushima  34.067390   \n",
       "\n",
       "              lon                         geometry Country  \n",
       "38533  135.333331   POINT (135.3333309 35.4504059)      JP  \n",
       "38534  136.640021  POINT (136.6400211 36.56000226)      JP  \n",
       "38535  140.089991  POINT (140.0899914 39.70999086)      JP  \n",
       "38536  133.537523  POINT (133.5375232 33.56243329)      JP  \n",
       "38537  136.516670  POINT (136.5166695 34.71706565)      JP  \n",
       "...           ...                              ...     ...  \n",
       "59855  136.640021  POINT (136.6400211 36.56000226)      JP  \n",
       "59856  136.762753  POINT (136.7627526 35.42309491)      JP  \n",
       "59857  136.220047  POINT (136.2200468 36.07041974)      JP  \n",
       "59858  134.233295  POINT (134.2332946 35.50037701)      JP  \n",
       "59859  134.552500     POINT (134.5525 34.06738955)      JP  \n",
       "\n",
       "[8258 rows x 16 columns]"
      ]
     },
     "execution_count": 27,
     "metadata": {},
     "output_type": "execute_result"
    }
   ],
   "source": [
    "df[df['Country']=='JP']"
   ]
  },
  {
   "cell_type": "code",
   "execution_count": 28,
   "metadata": {},
   "outputs": [],
   "source": [
    "def FixDatesJapan(row):\n",
    "    if row['Country'] !='JP' :\n",
    "        return row['trending_date']\n",
    "    date = row['trending_date']\n",
    "    year= date.year\n",
    "    month = date.month\n",
    "    day = date.day\n",
    "    hour = date.hour\n",
    "    minute = date.minute\n",
    "    fix_year = 2018\n",
    "    fix_day = month\n",
    "    fix_month = year % 100\n",
    "    new_date = pd.Timestamp(year=fix_year, month=fix_month, day=fix_day, hour=hour, minute=minute, tz='UTC')\n",
    "    return new_date\n",
    "\n"
   ]
  },
  {
   "cell_type": "code",
   "execution_count": 29,
   "metadata": {},
   "outputs": [],
   "source": [
    "df['trending_date'] = df.apply(FixDatesJapan, axis=1)"
   ]
  },
  {
   "cell_type": "code",
   "execution_count": 30,
   "metadata": {},
   "outputs": [
    {
     "name": "stdout",
     "output_type": "stream",
     "text": [
      "{'IN': {'1': 'Film & Animation', '2': 'Autos & Vehicles', '10': 'Music', '15': 'Pets & Animals', '17': 'Sports', '18': 'Short Movies', '19': 'Travel & Events', '20': 'Gaming', '21': 'Videoblogging', '22': 'People & Blogs', '23': 'Comedy', '24': 'Entertainment', '25': 'News & Politics', '26': 'Howto & Style', '27': 'Education', '28': 'Science & Technology', '30': 'Movies', '31': 'Anime/Animation', '32': 'Action/Adventure', '33': 'Classics', '34': 'Comedy', '35': 'Documentary', '36': 'Drama', '37': 'Family', '38': 'Foreign', '39': 'Horror', '40': 'Sci-Fi/Fantasy', '41': 'Thriller', '42': 'Shorts', '43': 'Shows', '44': 'Trailers'}, 'JP': {'1': 'Film & Animation', '2': 'Autos & Vehicles', '10': 'Music', '15': 'Pets & Animals', '17': 'Sports', '18': 'Short Movies', '19': 'Travel & Events', '20': 'Gaming', '21': 'Videoblogging', '22': 'People & Blogs', '23': 'Comedy', '24': 'Entertainment', '25': 'News & Politics', '26': 'Howto & Style', '27': 'Education', '28': 'Science & Technology', '30': 'Movies', '31': 'Anime/Animation', '32': 'Action/Adventure', '33': 'Classics', '34': 'Comedy', '35': 'Documentary', '36': 'Drama', '37': 'Family', '38': 'Foreign', '39': 'Horror', '40': 'Sci-Fi/Fantasy', '41': 'Thriller', '42': 'Shorts', '43': 'Shows', '44': 'Trailers'}, 'KR': {'1': 'Film & Animation', '2': 'Autos & Vehicles', '10': 'Music', '15': 'Pets & Animals', '17': 'Sports', '18': 'Short Movies', '19': 'Travel & Events', '20': 'Gaming', '21': 'Videoblogging', '22': 'People & Blogs', '23': 'Comedy', '24': 'Entertainment', '25': 'News & Politics', '26': 'Howto & Style', '27': 'Education', '28': 'Science & Technology', '30': 'Movies', '31': 'Anime/Animation', '32': 'Action/Adventure', '33': 'Classics', '34': 'Comedy', '35': 'Documentary', '36': 'Drama', '37': 'Family', '38': 'Foreign', '39': 'Horror', '40': 'Sci-Fi/Fantasy', '41': 'Thriller', '42': 'Shorts', '43': 'Shows', '44': 'Trailers'}, 'MX': {'1': 'Film & Animation', '2': 'Autos & Vehicles', '10': 'Music', '15': 'Pets & Animals', '17': 'Sports', '18': 'Short Movies', '19': 'Travel & Events', '20': 'Gaming', '21': 'Videoblogging', '22': 'People & Blogs', '23': 'Comedy', '24': 'Entertainment', '25': 'News & Politics', '26': 'Howto & Style', '27': 'Education', '28': 'Science & Technology', '30': 'Movies', '31': 'Anime/Animation', '32': 'Action/Adventure', '33': 'Classics', '34': 'Comedy', '35': 'Documentary', '36': 'Drama', '37': 'Family', '38': 'Foreign', '39': 'Horror', '40': 'Sci-Fi/Fantasy', '41': 'Thriller', '42': 'Shorts', '43': 'Shows', '44': 'Trailers'}, 'RU': {'1': 'Film & Animation', '2': 'Autos & Vehicles', '10': 'Music', '15': 'Pets & Animals', '17': 'Sports', '18': 'Short Movies', '19': 'Travel & Events', '20': 'Gaming', '21': 'Videoblogging', '22': 'People & Blogs', '23': 'Comedy', '24': 'Entertainment', '25': 'News & Politics', '26': 'Howto & Style', '27': 'Education', '28': 'Science & Technology', '30': 'Movies', '31': 'Anime/Animation', '32': 'Action/Adventure', '33': 'Classics', '34': 'Comedy', '35': 'Documentary', '36': 'Drama', '37': 'Family', '38': 'Foreign', '39': 'Horror', '40': 'Sci-Fi/Fantasy', '41': 'Thriller', '42': 'Shorts', '43': 'Shows', '44': 'Trailers'}}\n"
     ]
    }
   ],
   "source": [
    "import json\n",
    "gender = {}\n",
    "\n",
    "for key, value in countries.items():\n",
    "    filepath = data_path + value + \"_category_id.json\"\n",
    "    gender[value] = {}\n",
    "\n",
    "    cur = json.load(open(filepath, 'r'))\n",
    "    for i in cur['items']:\n",
    "        gender[value][i['id']] = i['snippet']['title']\n",
    "print(gender)\n",
    "\n"
   ]
  },
  {
   "cell_type": "code",
   "execution_count": 31,
   "metadata": {},
   "outputs": [],
   "source": [
    "def setGender(row):\n",
    "    try:\n",
    "        return  gender[row['Country']][row['category_id']]\n",
    "    except KeyError:\n",
    "\n",
    "        return np.nan"
   ]
  },
  {
   "cell_type": "code",
   "execution_count": 32,
   "metadata": {},
   "outputs": [],
   "source": [
    "df['category_name'] = df.apply(setGender, axis=1)"
   ]
  },
  {
   "cell_type": "code",
   "execution_count": 33,
   "metadata": {},
   "outputs": [],
   "source": [
    "df.dropna(inplace=True)"
   ]
  },
  {
   "cell_type": "code",
   "execution_count": 34,
   "metadata": {},
   "outputs": [],
   "source": [
    "df.drop(columns=['category_id', 'publish_time', 'video_id'], inplace=True)"
   ]
  },
  {
   "cell_type": "code",
   "execution_count": 35,
   "metadata": {},
   "outputs": [],
   "source": [
    "def Normalize(status):\n",
    "    if status == 'FALSO':\n",
    "        return False\n",
    "    elif status == 'VERDADERO':\n",
    "        return True\n",
    "    else:\n",
    "        return np.nan"
   ]
  },
  {
   "cell_type": "code",
   "execution_count": 36,
   "metadata": {},
   "outputs": [
    {
     "data": {
      "text/plain": [
       "array(['FALSO', 'VERDADERO'], dtype=object)"
      ]
     },
     "execution_count": 36,
     "metadata": {},
     "output_type": "execute_result"
    }
   ],
   "source": [
    "df['comments_disabled'].unique()"
   ]
  },
  {
   "cell_type": "code",
   "execution_count": 37,
   "metadata": {},
   "outputs": [],
   "source": [
    "df['comments_disabled'] = df['comments_disabled'].apply(Normalize)"
   ]
  },
  {
   "cell_type": "code",
   "execution_count": 38,
   "metadata": {},
   "outputs": [],
   "source": [
    "df['ratings_disabled'] = df['ratings_disabled'].apply(Normalize)"
   ]
  },
  {
   "cell_type": "code",
   "execution_count": 39,
   "metadata": {},
   "outputs": [],
   "source": [
    "df.to_csv('cleaned_data.csv', index=False)"
   ]
  }
 ],
 "metadata": {
  "kernelspec": {
   "display_name": "base",
   "language": "python",
   "name": "python3"
  },
  "language_info": {
   "codemirror_mode": {
    "name": "ipython",
    "version": 3
   },
   "file_extension": ".py",
   "mimetype": "text/x-python",
   "name": "python",
   "nbconvert_exporter": "python",
   "pygments_lexer": "ipython3",
   "version": "3.12.1"
  }
 },
 "nbformat": 4,
 "nbformat_minor": 2
}
