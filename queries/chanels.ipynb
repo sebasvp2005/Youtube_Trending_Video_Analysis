{
 "cells": [
  {
   "cell_type": "code",
   "execution_count": 1,
   "id": "679cab17b07fc2fd",
   "metadata": {
    "ExecuteTime": {
     "end_time": "2024-06-26T20:08:04.028033Z",
     "start_time": "2024-06-26T20:08:02.403203Z"
    }
   },
   "outputs": [
    {
     "name": "stderr",
     "output_type": "stream",
     "text": [
      "C:\\Users\\sebas\\AppData\\Local\\Temp\\ipykernel_12156\\1521273946.py:1: DeprecationWarning: \n",
      "Pyarrow will become a required dependency of pandas in the next major release of pandas (pandas 3.0),\n",
      "(to allow more performant data types, such as the Arrow string type, and better interoperability with other libraries)\n",
      "but was not found to be installed on your system.\n",
      "If this would cause problems for you,\n",
      "please provide us feedback at https://github.com/pandas-dev/pandas/issues/54466\n",
      "        \n",
      "  import pandas as pd\n"
     ]
    }
   ],
   "source": [
    "import pandas as pd\n",
    "import matplotlib.pyplot as plt\n",
    "import numpy as np"
   ]
  },
  {
   "cell_type": "code",
   "execution_count": 2,
   "id": "initial_id",
   "metadata": {
    "ExecuteTime": {
     "end_time": "2024-06-26T20:08:06.108030Z",
     "start_time": "2024-06-26T20:08:05.624127Z"
    },
    "collapsed": true
   },
   "outputs": [
    {
     "data": {
      "text/html": [
       "<div>\n",
       "<style scoped>\n",
       "    .dataframe tbody tr th:only-of-type {\n",
       "        vertical-align: middle;\n",
       "    }\n",
       "\n",
       "    .dataframe tbody tr th {\n",
       "        vertical-align: top;\n",
       "    }\n",
       "\n",
       "    .dataframe thead th {\n",
       "        text-align: right;\n",
       "    }\n",
       "</style>\n",
       "<table border=\"1\" class=\"dataframe\">\n",
       "  <thead>\n",
       "    <tr style=\"text-align: right;\">\n",
       "      <th></th>\n",
       "      <th>trending_date</th>\n",
       "      <th>channel_title</th>\n",
       "      <th>views</th>\n",
       "      <th>likes</th>\n",
       "      <th>dislikes</th>\n",
       "      <th>comment_count</th>\n",
       "      <th>comments_disabled</th>\n",
       "      <th>ratings_disabled</th>\n",
       "      <th>state</th>\n",
       "      <th>Country</th>\n",
       "    </tr>\n",
       "  </thead>\n",
       "  <tbody>\n",
       "    <tr>\n",
       "      <th>0</th>\n",
       "      <td>2017-11-13 18:30:00+00:00</td>\n",
       "      <td>Lokdhun Punjabi</td>\n",
       "      <td>1096327</td>\n",
       "      <td>33966</td>\n",
       "      <td>798</td>\n",
       "      <td>882</td>\n",
       "      <td>False</td>\n",
       "      <td>False</td>\n",
       "      <td>Arunachal Pradesh</td>\n",
       "      <td>IN</td>\n",
       "    </tr>\n",
       "    <tr>\n",
       "      <th>1</th>\n",
       "      <td>2017-11-13 18:30:00+00:00</td>\n",
       "      <td>HJ NEWS</td>\n",
       "      <td>590101</td>\n",
       "      <td>735</td>\n",
       "      <td>904</td>\n",
       "      <td>0</td>\n",
       "      <td>True</td>\n",
       "      <td>False</td>\n",
       "      <td>Arunachal Pradesh</td>\n",
       "      <td>IN</td>\n",
       "    </tr>\n",
       "    <tr>\n",
       "      <th>2</th>\n",
       "      <td>2017-11-13 18:30:00+00:00</td>\n",
       "      <td>TFPC</td>\n",
       "      <td>473988</td>\n",
       "      <td>2011</td>\n",
       "      <td>243</td>\n",
       "      <td>149</td>\n",
       "      <td>False</td>\n",
       "      <td>False</td>\n",
       "      <td>Dadra And Nagar Haveli</td>\n",
       "      <td>IN</td>\n",
       "    </tr>\n",
       "    <tr>\n",
       "      <th>3</th>\n",
       "      <td>2017-11-13 18:30:00+00:00</td>\n",
       "      <td>Eruma Saani</td>\n",
       "      <td>1242680</td>\n",
       "      <td>70353</td>\n",
       "      <td>1624</td>\n",
       "      <td>2684</td>\n",
       "      <td>False</td>\n",
       "      <td>False</td>\n",
       "      <td>Nagaland</td>\n",
       "      <td>IN</td>\n",
       "    </tr>\n",
       "    <tr>\n",
       "      <th>4</th>\n",
       "      <td>2017-11-13 18:30:00+00:00</td>\n",
       "      <td>Filmylooks</td>\n",
       "      <td>464015</td>\n",
       "      <td>492</td>\n",
       "      <td>293</td>\n",
       "      <td>66</td>\n",
       "      <td>False</td>\n",
       "      <td>False</td>\n",
       "      <td>Himachal Pradesh</td>\n",
       "      <td>IN</td>\n",
       "    </tr>\n",
       "    <tr>\n",
       "      <th>...</th>\n",
       "      <td>...</td>\n",
       "      <td>...</td>\n",
       "      <td>...</td>\n",
       "      <td>...</td>\n",
       "      <td>...</td>\n",
       "      <td>...</td>\n",
       "      <td>...</td>\n",
       "      <td>...</td>\n",
       "      <td>...</td>\n",
       "      <td>...</td>\n",
       "    </tr>\n",
       "    <tr>\n",
       "      <th>158695</th>\n",
       "      <td>2018-06-13 21:00:00+00:00</td>\n",
       "      <td>Портье Дрогба</td>\n",
       "      <td>70654</td>\n",
       "      <td>3806</td>\n",
       "      <td>87</td>\n",
       "      <td>230</td>\n",
       "      <td>False</td>\n",
       "      <td>False</td>\n",
       "      <td>Khakass</td>\n",
       "      <td>RU</td>\n",
       "    </tr>\n",
       "    <tr>\n",
       "      <th>158696</th>\n",
       "      <td>2018-06-13 21:00:00+00:00</td>\n",
       "      <td>Pastime Time</td>\n",
       "      <td>129488</td>\n",
       "      <td>5893</td>\n",
       "      <td>164</td>\n",
       "      <td>990</td>\n",
       "      <td>False</td>\n",
       "      <td>False</td>\n",
       "      <td>Volgograd</td>\n",
       "      <td>RU</td>\n",
       "    </tr>\n",
       "    <tr>\n",
       "      <th>158697</th>\n",
       "      <td>2018-06-13 21:00:00+00:00</td>\n",
       "      <td>CaGArt</td>\n",
       "      <td>99163</td>\n",
       "      <td>4659</td>\n",
       "      <td>337</td>\n",
       "      <td>692</td>\n",
       "      <td>False</td>\n",
       "      <td>False</td>\n",
       "      <td>Komi</td>\n",
       "      <td>RU</td>\n",
       "    </tr>\n",
       "    <tr>\n",
       "      <th>158698</th>\n",
       "      <td>2018-06-13 21:00:00+00:00</td>\n",
       "      <td>DaisyxBTS 07</td>\n",
       "      <td>449611</td>\n",
       "      <td>24808</td>\n",
       "      <td>93</td>\n",
       "      <td>974</td>\n",
       "      <td>False</td>\n",
       "      <td>False</td>\n",
       "      <td>Khakass</td>\n",
       "      <td>RU</td>\n",
       "    </tr>\n",
       "    <tr>\n",
       "      <th>158699</th>\n",
       "      <td>2018-06-13 21:00:00+00:00</td>\n",
       "      <td>Ксюша Лебедева</td>\n",
       "      <td>14225</td>\n",
       "      <td>793</td>\n",
       "      <td>39</td>\n",
       "      <td>209</td>\n",
       "      <td>False</td>\n",
       "      <td>False</td>\n",
       "      <td>Yaroslavl'</td>\n",
       "      <td>RU</td>\n",
       "    </tr>\n",
       "  </tbody>\n",
       "</table>\n",
       "<p>158700 rows × 10 columns</p>\n",
       "</div>"
      ],
      "text/plain": [
       "                    trending_date    channel_title    views  likes  dislikes  \\\n",
       "0       2017-11-13 18:30:00+00:00  Lokdhun Punjabi  1096327  33966       798   \n",
       "1       2017-11-13 18:30:00+00:00          HJ NEWS   590101    735       904   \n",
       "2       2017-11-13 18:30:00+00:00             TFPC   473988   2011       243   \n",
       "3       2017-11-13 18:30:00+00:00      Eruma Saani  1242680  70353      1624   \n",
       "4       2017-11-13 18:30:00+00:00       Filmylooks   464015    492       293   \n",
       "...                           ...              ...      ...    ...       ...   \n",
       "158695  2018-06-13 21:00:00+00:00    Портье Дрогба    70654   3806        87   \n",
       "158696  2018-06-13 21:00:00+00:00     Pastime Time   129488   5893       164   \n",
       "158697  2018-06-13 21:00:00+00:00           CaGArt    99163   4659       337   \n",
       "158698  2018-06-13 21:00:00+00:00     DaisyxBTS 07   449611  24808        93   \n",
       "158699  2018-06-13 21:00:00+00:00   Ксюша Лебедева    14225    793        39   \n",
       "\n",
       "        comment_count  comments_disabled  ratings_disabled  \\\n",
       "0                 882              False             False   \n",
       "1                   0               True             False   \n",
       "2                 149              False             False   \n",
       "3                2684              False             False   \n",
       "4                  66              False             False   \n",
       "...               ...                ...               ...   \n",
       "158695            230              False             False   \n",
       "158696            990              False             False   \n",
       "158697            692              False             False   \n",
       "158698            974              False             False   \n",
       "158699            209              False             False   \n",
       "\n",
       "                         state Country  \n",
       "0            Arunachal Pradesh      IN  \n",
       "1            Arunachal Pradesh      IN  \n",
       "2       Dadra And Nagar Haveli      IN  \n",
       "3                     Nagaland      IN  \n",
       "4             Himachal Pradesh      IN  \n",
       "...                        ...     ...  \n",
       "158695                 Khakass      RU  \n",
       "158696               Volgograd      RU  \n",
       "158697                    Komi      RU  \n",
       "158698                 Khakass      RU  \n",
       "158699              Yaroslavl'      RU  \n",
       "\n",
       "[158700 rows x 10 columns]"
      ]
     },
     "execution_count": 2,
     "metadata": {},
     "output_type": "execute_result"
    }
   ],
   "source": [
    "df = pd.read_csv('cleaned_data.csv').drop('geometry', axis=1)\n",
    "df.drop(['category_name', 'lat', 'lon'], axis=1, inplace=True)\n",
    "df"
   ]
  },
  {
   "cell_type": "code",
   "execution_count": 3,
   "id": "5b0fc2a7487a79b3",
   "metadata": {
    "ExecuteTime": {
     "end_time": "2024-06-26T20:12:49.188040Z",
     "start_time": "2024-06-26T20:12:49.128477Z"
    }
   },
   "outputs": [
    {
     "data": {
      "text/html": [
       "<div>\n",
       "<style scoped>\n",
       "    .dataframe tbody tr th:only-of-type {\n",
       "        vertical-align: middle;\n",
       "    }\n",
       "\n",
       "    .dataframe tbody tr th {\n",
       "        vertical-align: top;\n",
       "    }\n",
       "\n",
       "    .dataframe thead th {\n",
       "        text-align: right;\n",
       "    }\n",
       "</style>\n",
       "<table border=\"1\" class=\"dataframe\">\n",
       "  <thead>\n",
       "    <tr style=\"text-align: right;\">\n",
       "      <th></th>\n",
       "      <th>count</th>\n",
       "    </tr>\n",
       "    <tr>\n",
       "      <th>channel_title</th>\n",
       "      <th></th>\n",
       "    </tr>\n",
       "  </thead>\n",
       "  <tbody>\n",
       "    <tr>\n",
       "      <th>etvteluguindia</th>\n",
       "      <td>282</td>\n",
       "    </tr>\n",
       "    <tr>\n",
       "      <th>VikatanTV</th>\n",
       "      <td>278</td>\n",
       "    </tr>\n",
       "    <tr>\n",
       "      <th>Flowers Comedy</th>\n",
       "      <td>268</td>\n",
       "    </tr>\n",
       "    <tr>\n",
       "      <th>ETV Plus India</th>\n",
       "      <td>253</td>\n",
       "    </tr>\n",
       "    <tr>\n",
       "      <th>RadaanMedia</th>\n",
       "      <td>241</td>\n",
       "    </tr>\n",
       "    <tr>\n",
       "      <th>...</th>\n",
       "      <td>...</td>\n",
       "    </tr>\n",
       "    <tr>\n",
       "      <th>Reflejo Público</th>\n",
       "      <td>1</td>\n",
       "    </tr>\n",
       "    <tr>\n",
       "      <th>Reggaeton Brasileiro</th>\n",
       "      <td>1</td>\n",
       "    </tr>\n",
       "    <tr>\n",
       "      <th>ReggaetonColombiano</th>\n",
       "      <td>1</td>\n",
       "    </tr>\n",
       "    <tr>\n",
       "      <th>ReggaetonFlow</th>\n",
       "      <td>1</td>\n",
       "    </tr>\n",
       "    <tr>\n",
       "      <th>ＷＡＪＯＩＫＡ</th>\n",
       "      <td>1</td>\n",
       "    </tr>\n",
       "  </tbody>\n",
       "</table>\n",
       "<p>20970 rows × 1 columns</p>\n",
       "</div>"
      ],
      "text/plain": [
       "                      count\n",
       "channel_title              \n",
       "etvteluguindia          282\n",
       "VikatanTV               278\n",
       "Flowers Comedy          268\n",
       "ETV Plus India          253\n",
       "RadaanMedia             241\n",
       "...                     ...\n",
       "Reflejo Público           1\n",
       "Reggaeton Brasileiro      1\n",
       "ReggaetonColombiano       1\n",
       "ReggaetonFlow             1\n",
       "ＷＡＪＯＩＫＡ                   1\n",
       "\n",
       "[20970 rows x 1 columns]"
      ]
     },
     "execution_count": 3,
     "metadata": {},
     "output_type": "execute_result"
    }
   ],
   "source": [
    "channel_df = df[['channel_title']].copy()\n",
    "channel_df['count'] = 1\n",
    "channel_df = channel_df.groupby('channel_title').count().sort_values('count', ascending=False)\n",
    "channel_df"
   ]
  },
  {
   "cell_type": "code",
   "execution_count": 4,
   "id": "b608e2334ddb6b0a",
   "metadata": {
    "ExecuteTime": {
     "end_time": "2024-06-26T20:21:04.410340Z",
     "start_time": "2024-06-26T20:21:03.925558Z"
    }
   },
   "outputs": [
    {
     "data": {
      "image/png": "[encoded data removed]",
      "text/plain": [
       "<Figure size 640x480 with 1 Axes>"
      ]
     },
     "metadata": {},
     "output_type": "display_data"
    }
   ],
   "source": [
    "plt.hist(channel_df['count'], bins=30, density=False, alpha=0.6, color='g')\n",
    "plt.yscale('log')\n",
    "plt.title('Distribucion de videos \"trending\" por canal')\n",
    "plt.xlabel('N° de videos')\n",
    "plt.ylabel('N° de canales')\n",
    "plt.show()"
   ]
  },
  {
   "cell_type": "markdown",
   "id": "eb2083255dc4b293",
   "metadata": {},
   "source": [
    "Distribucion exponencial"
   ]
  },
  {
   "cell_type": "code",
   "execution_count": 5,
   "id": "219f27124877c122",
   "metadata": {
    "ExecuteTime": {
     "end_time": "2024-06-26T20:24:56.366421Z",
     "start_time": "2024-06-26T20:24:54.960625Z"
    }
   },
   "outputs": [
    {
     "name": "stdout",
     "output_type": "stream",
     "text": [
      "['Lucida Sans Typewriter', 'Bodoni MT', 'Consolas', 'Lucida Sans', 'Lucida Fax', 'Constantia', 'Segoe UI', 'Rockwell Extra Bold', 'Yu Gothic', 'Segoe UI', 'Georgia', 'Calibri', 'Segoe UI', 'Verdana', 'Brush Script MT', 'Book Antiqua', 'Segoe Script', 'Century Schoolbook', 'Segoe UI', 'Comic Sans MS', 'Lucida Sans', 'Arial', 'Gill Sans MT Ext Condensed Bold', 'Times New Roman', 'Gill Sans MT', 'Bell MT', 'Yu Gothic', 'Mongolian Baiti', 'HoloLens MDL2 Assets', 'Californian FB', 'Lucida Sans Typewriter', 'Perpetua', 'Segoe UI', 'Cambria', 'Eras Bold ITC', 'Century Gothic', 'Goudy Old Style', 'Constantia', 'Leelawadee', 'MS Reference Specialty', 'Magneto', 'Tw Cen MT', 'Wingdings', 'Niagara Engraved', 'Corbel', 'Sitka Small', 'Parchment', 'Britannic Bold', 'Kunstler Script', 'Imprint MT Shadow', 'Californian FB', 'Bodoni MT', 'Symbol', 'Agency FB', 'Gadugi', 'Franklin Gothic Demi Cond', 'MS Reference Sans Serif', 'Constantia', 'Cambria', 'Book Antiqua', 'Stencil', 'SimSun-ExtB', 'Bodoni MT', 'Verdana', 'Wingdings 2', 'Rage Italic', 'Bell MT', 'Felix Titling', 'Arial', 'Courier New', 'Jokerman', 'Lucida Sans', 'Microsoft New Tai Lue', 'Trebuchet MS', 'Gigi', 'Trebuchet MS', 'Palatino Linotype', 'Chiller', 'Eras Light ITC', 'Leelawadee', 'Garamond', 'Georgia', 'Lucida Bright', 'Lucida Calligraphy', 'Arial', 'Matura MT Script Capitals', 'Nirmala UI', 'Calisto MT', 'Arial', 'Candara', 'Calisto MT', 'Segoe Print', 'Yu Gothic', 'Corbel', 'Gill Sans Ultra Bold Condensed', 'Century', 'Tahoma', 'Gill Sans MT', 'Gill Sans Ultra Bold', 'Palatino Linotype', 'Segoe UI Historic', 'Broadway', 'Palatino Linotype', 'Segoe UI', 'Lucida Fax', 'Microsoft Tai Le', 'Elephant', 'Lucida Bright', 'Microsoft JhengHei', 'Century Schoolbook', 'Microsoft YaHei', 'Century Gothic', 'Perpetua Titling MT', 'Bodoni MT', 'Century Gothic', 'Haettenschweiler', 'Viner Hand ITC', 'Courier New', 'Castellar', 'Cambria', 'Verdana', 'Onyx', 'Bookman Old Style', 'Informal Roman', 'Franklin Gothic Medium Cond', 'Rockwell', 'Franklin Gothic Book', 'Kristen ITC', 'Bernard MT Condensed', 'Segoe UI', 'Segoe UI Symbol', 'Harlow Solid Italic', 'Tw Cen MT Condensed Extra Bold', 'Dubai', 'Goudy Old Style', 'Poor Richard', 'Lucida Sans Typewriter', 'Modern No. 20', 'Ebrima', 'Wide Latin', 'Rockwell', 'Sitka Small', 'Gadugi', 'Pristina', 'Segoe MDL2 Assets', 'Tempus Sans ITC', 'Copperplate Gothic Bold', 'Microsoft JhengHei', 'Calisto MT', 'Segoe Script', 'Bodoni MT', 'Consolas', 'Berlin Sans FB', 'Tw Cen MT', 'Century Schoolbook', 'Nirmala UI', 'Constantia', 'Lucida Handwriting', 'Corbel', 'Candara', 'Microsoft New Tai Lue', 'Malgun Gothic', 'Candara', 'Courier New', 'Snap ITC', 'Arial', 'Impact', 'Bodoni MT', 'Calibri', 'Myanmar Text', 'Ink Free', 'Maiandra GD', 'Juice ITC', 'Lucida Sans Typewriter', 'Niagara Solid', 'Georgia', 'Lucida Bright', 'MingLiU-ExtB', 'Algerian', 'Tw Cen MT', 'Comic Sans MS', 'Gill Sans MT', 'Arial Rounded MT Bold', 'Calisto MT', 'Arial', 'Bodoni MT', 'Javanese Text', 'Calibri', 'High Tower Text', 'Perpetua', 'Wingdings 3', 'Elephant', 'Lucida Sans Unicode', 'Franklin Gothic Medium', 'Dubai', 'Microsoft Yi Baiti', 'Segoe UI Emoji', 'Goudy Old Style', 'Calibri', 'OCR A Extended', 'Arial', 'MS Outlook', 'Script MT Bold', 'Malgun Gothic', 'Franklin Gothic Medium', 'Calibri', 'Microsoft Sans Serif', 'Bodoni MT', 'Ravie', 'Gloucester MT Extra Condensed', 'Arial', 'Forte', 'Segoe UI', 'Segoe UI', 'Book Antiqua', 'Sylfaen', 'SimSun', 'Candara', 'Lucida Sans', 'Bookshelf Symbol 7', 'Centaur', 'Sitka Small', 'Segoe UI', 'Bodoni MT', 'Leelawadee UI', 'Gabriola', 'Mistral', 'Californian FB', 'Microsoft PhagsPa', 'Vivaldi', 'Webdings', 'Cooper Black', 'Comic Sans MS', 'Lucida Console', 'French Script MT', 'Nirmala UI', 'Lucida Fax', 'Microsoft Himalaya', 'Perpetua', 'Engravers MT', 'Segoe Print', 'Lucida Fax', 'Rockwell Condensed', 'Franklin Gothic Demi', 'Bradley Hand ITC', 'Leelawadee UI', 'Perpetua', 'Times New Roman', 'Blackadder ITC', 'High Tower Text', 'Microsoft PhagsPa', 'Georgia', 'MV Boli', 'Rockwell', 'Microsoft YaHei', 'Bookman Old Style', 'Corbel', 'Showcard Gothic', 'Myanmar Text', 'Times New Roman', 'Eras Medium ITC', 'Bookman Old Style', 'Franklin Gothic Book', 'Candara', 'Edwardian Script ITC', 'Microsoft Tai Le', 'Bell MT', 'Dubai', 'Berlin Sans FB Demi', 'Franklin Gothic Heavy', 'Segoe UI', 'Rockwell Condensed', 'Gill Sans MT', 'Franklin Gothic Demi', 'Franklin Gothic Heavy', 'Garamond', 'Dubai', 'Old English Text MT', 'Leelawadee UI', 'Palace Script MT', 'Rockwell', 'Tw Cen MT Condensed', 'Garamond', 'Consolas', 'Footlight MT Light', 'Bahnschrift', 'Arial', 'MS Gothic', 'Perpetua Titling MT', 'Verdana', 'Tw Cen MT', 'Times New Roman', 'Copperplate Gothic Light', 'Microsoft Uighur', 'Consolas', 'Monotype Corsiva', 'Agency FB', 'Ebrima', 'Microsoft JhengHei', 'Book Antiqua', 'Freestyle Script', 'Bodoni MT', 'Gill Sans MT Condensed', 'Comic Sans MS', 'Calibri', 'Segoe UI', 'Berlin Sans FB', 'Playbill', 'Vladimir Script', 'Curlz MT', 'Sitka Small', 'Bauhaus 93', 'Tw Cen MT Condensed', 'Colonna MT', 'Palatino Linotype', 'Trebuchet MS', 'Century Schoolbook', 'Harrington', 'Baskerville Old Face', 'Bookman Old Style', 'Courier New', 'Eras Demi ITC', 'Yu Gothic', 'Tahoma', 'Cambria', 'Corbel', 'Microsoft Uighur', 'Trebuchet MS', 'Century Gothic', 'Malgun Gothic', 'MT Extra', 'Bodoni MT', 'Papyrus', 'Corbel', 'Microsoft YaHei', 'Goudy Stout', 'Candara', 'Lucida Bright']\n"
     ]
    }
   ],
   "source": [
    "import matplotlib.font_manager\n",
    "\n",
    "fonts = matplotlib.font_manager.findSystemFonts(fontpaths=None, fontext='ttf')\n",
    "\n",
    "# print the names of all fonts\n",
    "print([matplotlib.font_manager.get_font(f).family_name for f in fonts])"
   ]
  },
  {
   "cell_type": "code",
   "execution_count": 6,
   "id": "6d121f9f71c6b619",
   "metadata": {
    "ExecuteTime": {
     "end_time": "2024-06-26T20:26:09.481951Z",
     "start_time": "2024-06-26T20:26:09.157969Z"
    }
   },
   "outputs": [
    {
     "data": {
      "image/png": "[encoded data removed]",
      "text/plain": [
       "<Figure size 640x480 with 1 Axes>"
      ]
     },
     "metadata": {},
     "output_type": "display_data"
    }
   ],
   "source": [
    "top_10_channels = channel_df.nlargest(25, 'count')\n",
    "\n",
    "plt.rcParams['font.sans-serif'] = 'Malgun Gothic'\n",
    "plt.rcParams['axes.unicode_minus'] = False \n",
    "top_10_channels['count'].plot.bar()\n",
    "plt.title('Top 10 Channels')\n",
    "plt.xlabel('Channel Title')\n",
    "plt.ylabel('Count')\n",
    "plt.show()"
   ]
  },
  {
   "cell_type": "code",
   "execution_count": 7,
   "id": "c493243027aea25d",
   "metadata": {
    "ExecuteTime": {
     "end_time": "2024-06-26T20:30:10.736879Z",
     "start_time": "2024-06-26T20:30:10.712117Z"
    }
   },
   "outputs": [
    {
     "data": {
      "text/plain": [
       "0          Ната Владимировна\n",
       "1                  坂Tube 2nd\n",
       "2            Виталий Королев\n",
       "3                     土呂山とろ美\n",
       "4                      СБ ТВ\n",
       "                ...         \n",
       "7955         Reflejo Público\n",
       "7956    Reggaeton Brasileiro\n",
       "7957     ReggaetonColombiano\n",
       "7958           ReggaetonFlow\n",
       "7959                 ＷＡＪＯＩＫＡ\n",
       "Name: channel_title, Length: 7960, dtype: object"
      ]
     },
     "execution_count": 7,
     "metadata": {},
     "output_type": "execute_result"
    }
   ],
   "source": [
    "channels_one_video = pd.Series(channel_df[channel_df['count'] == 1].index)\n",
    "channels_one_video"
   ]
  }
 ],
 "metadata": {
  "kernelspec": {
   "display_name": "Python 3",
   "language": "python",
   "name": "python3"
  },
  "language_info": {
   "codemirror_mode": {
    "name": "ipython",
    "version": 3
   },
   "file_extension": ".py",
   "mimetype": "text/x-python",
   "name": "python",
   "nbconvert_exporter": "python",
   "pygments_lexer": "ipython3",
   "version": "3.12.1"
  }
 },
 "nbformat": 4,
 "nbformat_minor": 5
}
